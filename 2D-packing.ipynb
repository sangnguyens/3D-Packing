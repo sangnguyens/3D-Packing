{
 "cells": [
  {
   "cell_type": "markdown",
   "metadata": {},
   "source": [
    "# Simple 2D packing example with simple boxes\n",
    "\n",
    "[Box icon from www.iconfinder.com](https://www.iconfinder.com/icons/4072102/box_delivery_package_parcel_shipping_icon)"
   ]
  },
  {
   "cell_type": "markdown",
   "metadata": {},
   "source": [
    "Import libraries"
   ]
  },
  {
   "cell_type": "code",
   "execution_count": 15,
   "metadata": {},
   "outputs": [],
   "source": [
    "import numpy as np \n",
    "import cv2 \n",
    "import matplotlib.pyplot as plt\n",
    "import PIL.Image as Image\n",
    "import gym\n",
    "import random\n",
    "\n",
    "from gym import Env, spaces\n",
    "import time\n",
    "\n",
    "font = cv2.FONT_HERSHEY_COMPLEX_SMALL "
   ]
  },
  {
   "cell_type": "markdown",
   "metadata": {},
   "source": [
    "In this environment an agent places 2D boxes in a 2D container.\n",
    "1. The agent needs to pack as many boxes as possible without overlapping them.\n",
    "2. The episode terminates when the container is full or no more boxes can be placed."
   ]
  },
  {
   "cell_type": "markdown",
   "metadata": {},
   "source": [
    "### ContainerLevel Class\n",
    "Creating a class to model the bottom level of a shipping container.\n",
    "* Define in the `__init__` function the observation and the action spaces.\n",
    "* Implement attribute `canvas` \n",
    "* Implement screen area `x_min, y_min, x_max, y_max`\n",
    "* Implement `elements` - this stores elements in the screen (the already packed box)\n",
    "* helper function `draw_elements_on_canvas` that places the boxes icons in the container at their respective positions\n",
    "* `reset` : resets the environment to its initial state and returns the initial observation.\n",
    "* `step`: Executes a step by placing a box in the environment\n",
    "    * returns the new observation\n",
    "    * reward\n",
    "    * completion status\n",
    "    * and other information"
   ]
  },
  {
   "cell_type": "code",
   "execution_count": 40,
   "metadata": {},
   "outputs": [],
   "source": [
    "class ContainerLevel(Env):\n",
    "    def __init__(self):\n",
    "        super(ContainerLevel, self).__init__()\n",
    "\n",
    "        # Define 2D packing space\n",
    "        self.observation_shape = (600, 800, 3) # **Need to have dimensions passed\n",
    "        self.observation_space = spaces.Box(low = np.zeros(self.observation_space),\n",
    "                                            high = np.ones(self.observation_space),\n",
    "                                            dtype = np.float64)\n",
    "\n",
    "        # Define an action space\n",
    "        self.action_space = spaces.Discrete(6, ) # what is the 6?\n",
    "\n",
    "        # Creating a canvas for rendering\n",
    "        self.canvas = np.ones(self.observation_shape) * 1\n",
    "\n",
    "        # Define elements present in the environment\n",
    "        self.elements = []\n",
    "\n",
    "        # Permissible area where the boxes can be located in container\n",
    "        # **need to adjust this to be smaller when there are other boxes\n",
    "        self.y_min = int(self.observation_shape[0] * 0.1)\n",
    "        self.x_min = 0\n",
    "        self.y_max = int(self.observation_shape[0] * 0.9)\n",
    "        self.x_max = self.observation_shape[1]\n",
    "        self.box_len = int(self.observation_shape[0] * 0.01)\n",
    "        self.box_wid = int(self.observation_shape[0] * 0.01)\n",
    "\n",
    "    def draw_elements_on_canvas(self):\n",
    "        # Initialize the canvas\n",
    "        self.canvas = np.ones(self.observation_shape)* 1\n",
    "\n",
    "        # Draw the boxes on the canvas\n",
    "        for elem in self.elements:\n",
    "            elem_shape = elem.boxes.shape\n",
    "            x, y = elem.x, elem.y\n",
    "            self.canvas[y : y + elem_shape[1],\n",
    "                        x : x + elem_shape[0]] = elem.boxes\n",
    "    \n",
    "    def reset(self):\n",
    "        # Reset the reward\n",
    "        self.ep_return = 0\n",
    "\n",
    "        # Number of boxes\n",
    "        self.boxes_count = 0\n",
    "\n",
    "        # Determine a random place to initialize the first box\n",
    "        # along one side of the container\n",
    "        x = random.randrange(int(self.observation_shape[0] * 0.0),\n",
    "                             int(self.observation_shape[0] * 1.0))\n",
    "        y = random.randrange(int(self.observation_shape[1] * 0.0),\n",
    "                             int(self.observation_shape[1] * \n",
    "                             1.0 )) # Would like to change this to box_len/observation_shape[1]\n",
    "\n",
    "        # Initialize the boxes\n",
    "        self.boxes = Boxes('boxes', self.x_max, self.x_min, self.y_max, self.y_min, self.box_len, self.box_wid)\n",
    "        self.boxes.set_position(x, y)          \n",
    "\n",
    "        # Intialize the elements\n",
    "        self.elements = [self.boxes]\n",
    "\n",
    "        # Reset the canvas\n",
    "        self.canvas = np.ones(self.observation_shape) * 1\n",
    "\n",
    "        # Draw elements on the canvas\n",
    "        self.draw_elements_on_canvas()\n",
    "\n",
    "        # return the observation of the state of the container\n",
    "        return self.canvas"
   ]
  },
  {
   "cell_type": "markdown",
   "metadata": {},
   "source": [
    "### Elements of the Environment - Boxes\n",
    "* Starting with a `Point` base class to define any arbitrary point in the observation image.\n",
    "* It has the following attribures:\n",
    "    * `(x, y)`: position of the point on the image.\n",
    "    * `(x_min, x_max, y_min, y_max)`: the permissible coordicates for the points - keeps the position values clamped to these limits.\n",
    "    * `name` : name of the point\n",
    "* Member functions are defined as:\n",
    "    * `get_position` : get the coordinate of the point.\n",
    "    * `set_position` : set the coordinate of the point to a certain value\n",
    "    * `move` ?  - maybe we can call it `rotate` when we need it?"
   ]
  },
  {
   "cell_type": "code",
   "execution_count": 41,
   "metadata": {},
   "outputs": [],
   "source": [
    "class Point(object):\n",
    "    def __init__(self, name, x_max, x_min, y_max, y_min, box_len, box_wid):\n",
    "        self.x = 0\n",
    "        self.y = 0\n",
    "        self.x_min = x_min\n",
    "        self.x_max = x_max\n",
    "        self.y_min = y_min\n",
    "        self.y_max = y_max\n",
    "        self.box_len = box_len\n",
    "        self.box_wid = box_wid\n",
    "\n",
    "    def set_position(self, x, y):\n",
    "        # use box width (box_wid) and length (box_len)\n",
    "        # Dimensions will be (x, y, z) so box is (box_len, box_wid, box_high)\n",
    "        self.x = self.clamp(x, self.x_min, self.x_max - self.box_len)\n",
    "        self.y = self.clamp(y, self.y_min, self.y_max - self.box_wid)\n",
    "\n",
    "    def get_position(self):\n",
    "        return (self.x, self.y)\n",
    "\n",
    "    # rot_ang is the rotational angle in radians - for 2D: pi/2\n",
    "    def rotate_xy(self, rot_ang):\n",
    "        self.x += np.cos(rot_ang)\n",
    "        self.y += np.sin(rot_ang)\n",
    "\n",
    "        self.x = self.clamp(self.x, self.x_min, self.x_max - self.box_len)\n",
    "        self.y = self.clamp(self.y, self.y_min, self.y_max - self.box_wid)\n",
    "\n",
    "    # Here's the much needed part - clamp - to be sure boxes are in the container\n",
    "    def clamp(self, n, minn, maxn):\n",
    "        return (max(min(maxn, n), minn))"
   ]
  },
  {
   "cell_type": "markdown",
   "metadata": {},
   "source": [
    "### The objects are boxes and need to have the attributes:\n",
    "* `boxes` - the 2D footprint of a box \n",
    "* `(box_len, box_wid)` - the dimensions of the footprint of the box."
   ]
  },
  {
   "cell_type": "code",
   "execution_count": 42,
   "metadata": {},
   "outputs": [],
   "source": [
    "class Boxes(Point):\n",
    "    def __init__(self, name, x_max, x_min, y_max, y_min, box_len, box_wid):\n",
    "        super(Boxes, self).__init__(name, x_max, x_min, y_max, y_min, box_len, box_wid)\n",
    "        self.boxes = cv2.imread('./images/4072102_box_delivery_package_parcel_shipping_icon.png') / 255.0\n",
    "        self.box_len = box_len\n",
    "        self.box_wid = box_wid\n",
    "        self.boxes = cv2.resize(self.boxes, (self.box_len, self.box_wid))\n"
   ]
  },
  {
   "cell_type": "markdown",
   "metadata": {},
   "source": [
    "#### Observing initial container"
   ]
  },
  {
   "cell_type": "code",
   "execution_count": 43,
   "metadata": {},
   "outputs": [
    {
     "name": "stderr",
     "output_type": "stream",
     "text": [
      "/home/cim/anaconda3/envs/packing_env/lib/python3.7/site-packages/ipykernel_launcher.py:7: DeprecationWarning: Passing None into shape arguments as an alias for () is deprecated.\n",
      "  import sys\n"
     ]
    },
    {
     "data": {
      "text/plain": [
       "<matplotlib.image.AxesImage at 0x7f8f5e901410>"
      ]
     },
     "execution_count": 43,
     "metadata": {},
     "output_type": "execute_result"
    },
    {
     "data": {
      "image/png": "[encoded data removed]",
      "text/plain": [
       "<Figure size 432x288 with 1 Axes>"
      ]
     },
     "metadata": {
      "needs_background": "light"
     },
     "output_type": "display_data"
    }
   ],
   "source": [
    "env = ContainerLevel()\n",
    "obs = env.reset()\n",
    "plt.imshow(obs)"
   ]
  },
  {
   "cell_type": "markdown",
   "metadata": {},
   "source": []
  }
 ],
 "metadata": {
  "kernelspec": {
   "display_name": "Python 3.7.13 ('packing_env')",
   "language": "python",
   "name": "python3"
  },
  "language_info": {
   "codemirror_mode": {
    "name": "ipython",
    "version": 3
   },
   "file_extension": ".py",
   "mimetype": "text/x-python",
   "name": "python",
   "nbconvert_exporter": "python",
   "pygments_lexer": "ipython3",
   "version": "3.7.12"
  },
  "orig_nbformat": 4,
  "vscode": {
   "interpreter": {
    "hash": "986c4ab826e36f7fd70b540b62968821342fb0d06b7e0f483712ca6583018ee4"
   }
  }
 },
 "nbformat": 4,
 "nbformat_minor": 2
}
